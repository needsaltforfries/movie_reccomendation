{
 "cells": [
  {
   "cell_type": "code",
   "execution_count": 1,
   "id": "bc2c1eea-2070-4791-aca7-868221cfbbfb",
   "metadata": {},
   "outputs": [
    {
     "name": "stdout",
     "output_type": "stream",
     "text": [
      "(4800, 4800)\n"
     ]
    }
   ],
   "source": [
    "import torch\n",
    "from torch import nn\n",
    "from torch.optim import Adam\n",
    "from torch.utils.data import Dataset\n",
    "from torch.utils.data import DataLoader\n",
    "from torch.utils.data import random_split\n",
    "from torchvision import transforms\n",
    "from torch.autograd import Variable\n",
    "\n",
    "import numpy as np\n",
    "import pandas as pd\n",
    "import difflib\n",
    "import os\n",
    "\n",
    "from sklearn.feature_extraction.text import TfidfVectorizer\n",
    "from sklearn.metrics.pairwise import cosine_similarity\n",
    "from torch.utils.data import Dataset, DataLoader\n",
    "\n",
    "from IPython import display\n",
    "import string\n",
    "import dataloader\n",
    "from dataloader import MoviesDataset\n",
    "#load data\n",
    "movies = pd.read_csv('tmdb_5000_movies.csv')\n",
    "movies = movies.iloc[:-3]\n",
    "features = ['title', 'genres', 'keywords', 'original_language', 'vote_average']\n",
    "\n",
    "# make dataset\n",
    "dataset = MoviesDataset(movies)\n",
    "\n",
    "#clean null values\n",
    "for feature in features:\n",
    "    movies[feature] = movies[feature].fillna('')\n",
    "    \n",
    "comb_features = movies['title']+' '+movies['genres']+' '+movies['keywords']+' '+movies['original_language']\n",
    "vectorizer = TfidfVectorizer()\n",
    "feat_vectors = vectorizer.fit_transform(comb_features).toarray()\n",
    "vote_avg = movies['vote_average'].values.reshape(-1, 1)\n",
    "\n",
    "feat_vectors = np.concatenate([feat_vectors, vote_avg], axis=1)\n",
    "similarity = cosine_similarity(feat_vectors)\n",
    "print(similarity.shape)"
   ]
  },
  {
   "cell_type": "code",
   "execution_count": 2,
   "id": "d7762fc5-5645-427f-9fe1-0b71a20a1029",
   "metadata": {},
   "outputs": [
    {
     "name": "stderr",
     "output_type": "stream",
     "text": [
      "/local_scratch/slurm.2590444/ipykernel_128545/837863814.py:6: FutureWarning: You are using `torch.load` with `weights_only=False` (the current default value), which uses the default pickle module implicitly. It is possible to construct malicious pickle data which will execute arbitrary code during unpickling (See https://github.com/pytorch/pytorch/blob/main/SECURITY.md#untrusted-models for more details). In a future release, the default value for `weights_only` will be flipped to `True`. This limits the functions that could be executed during unpickling. Arbitrary objects will no longer be allowed to be loaded via this mode unless they are explicitly allowlisted by the user via `torch.serialization.add_safe_globals`. We recommend you start setting `weights_only=True` for any use case where you don't have full control of the loaded file. Please open an issue on GitHub for any issues related to this experimental feature.\n",
      "  state_dict = torch.load(model_path, map_location=torch.device('cpu'))  # Load the state dictionary\n"
     ]
    },
    {
     "name": "stdout",
     "output_type": "stream",
     "text": [
      "torch.Size([1, 1, 32])\n",
      "tensor([[-0.0144,  0.9999, -0.4374, -0.1353, -0.0076,  0.6729, -0.7948,  0.6463,\n",
      "         -0.7490, -0.3769, -0.9942, -0.9989, -0.9997,  1.0000, -0.9989, -0.7990,\n",
      "          0.9967,  0.9901, -0.9438, -0.9921, -0.7463, -0.9993, -0.0215, -0.2596,\n",
      "         -0.9567,  0.9841, -0.9898,  0.8692, -0.9901,  0.4348,  0.1317,  0.9970]])\n",
      "Reccomendation: ['iron man 3', 'iron man', 'iron man 2', 'xmen apocalypse', 'steel']\n"
     ]
    }
   ],
   "source": [
    "import network\n",
    "from network import Reccomender\n",
    "\n",
    "model_path = \"./reccomender_model.pth\"\n",
    "model = Reccomender(1)  # Ensure the architecture matches the saved model\n",
    "state_dict = torch.load(model_path, map_location=torch.device('cpu'))  # Load the state dictionary\n",
    "model.load_state_dict(state_dict)  # Load the weights into the model\n",
    "model.eval()  # Set the model to evaluation mode\n",
    "\n",
    "#testing\n",
    "movie = movies.loc[movies['id'] == 1726]\n",
    "tensor = dataset[movie.index[0]]\n",
    "tensor = tensor.unsqueeze(0)\n",
    "tensor = tensor.unsqueeze(1)\n",
    "print(tensor.shape)\n",
    "result = model(tensor)\n",
    "result = result.detach().cpu()\n",
    "print(result)\n",
    "print(f\"Reccomendation: {dataset.GetSimilarItems(result[0], top_n=5)}\")"
   ]
  },
  {
   "cell_type": "code",
   "execution_count": null,
   "id": "3689e561-a69d-4445-b4ee-638481b9b26a",
   "metadata": {},
   "outputs": [],
   "source": []
  }
 ],
 "metadata": {
  "kernelspec": {
   "display_name": "torch",
   "language": "python",
   "name": "torch"
  },
  "language_info": {
   "codemirror_mode": {
    "name": "ipython",
    "version": 3
   },
   "file_extension": ".py",
   "mimetype": "text/x-python",
   "name": "python",
   "nbconvert_exporter": "python",
   "pygments_lexer": "ipython3",
   "version": "3.12.5"
  }
 },
 "nbformat": 4,
 "nbformat_minor": 5
}
